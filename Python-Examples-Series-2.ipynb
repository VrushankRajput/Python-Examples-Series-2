{
 "cells": [
  {
   "cell_type": "code",
   "execution_count": 3,
   "metadata": {},
   "outputs": [
    {
     "name": "stdout",
     "output_type": "stream",
     "text": [
      "3\n",
      "4\n",
      "5\n",
      "6\n",
      "7\n",
      "1\n",
      "2\n"
     ]
    }
   ],
   "source": [
    "# Python program for reversal algorithm of array rotation \n",
    "  \n",
    "# Function to reverse arr[] from index start to end \n",
    "def rverseArray(arr, start, end): \n",
    "    while (start < end): \n",
    "        temp = arr[start] \n",
    "        arr[start] = arr[end] \n",
    "        arr[end] = temp \n",
    "        start += 1\n",
    "        end = end-1\n",
    "  \n",
    "# Function to left rotate arr[] of size n by d \n",
    "def leftRotate(arr, d): \n",
    "    n = len(arr) \n",
    "    rverseArray(arr, 0, d-1) \n",
    "    rverseArray(arr, d, n-1) \n",
    "    rverseArray(arr, 0, n-1) \n",
    "  \n",
    "# Function to print an array \n",
    "def printArray(arr): \n",
    "    for i in range(0, len(arr)): \n",
    "        print (arr[i])\n",
    "  \n",
    "# Driver function to test above functions \n",
    "arr = [1, 2, 3, 4, 5, 6, 7] \n",
    "leftRotate(arr, 2) # Rotate array by 2 \n",
    "printArray(arr) "
   ]
  },
  {
   "cell_type": "code",
   "execution_count": 4,
   "metadata": {},
   "outputs": [
    {
     "name": "stdout",
     "output_type": "stream",
     "text": [
      "True\n"
     ]
    }
   ],
   "source": [
    "# Check if given array is Monotonic \n",
    "def isMonotonic(A): \n",
    "  \n",
    "    return (all(A[i] <= A[i + 1] for i in range(len(A) - 1)) or\n",
    "            all(A[i] >= A[i + 1] for i in range(len(A) - 1))) \n",
    "  \n",
    "# Driver program \n",
    "A = [6, 5, 4, 4] \n",
    "  \n",
    "# Print required result \n",
    "print(isMonotonic(A)) "
   ]
  },
  {
   "cell_type": "code",
   "execution_count": 7,
   "metadata": {},
   "outputs": [
    {
     "name": "stdout",
     "output_type": "stream",
     "text": [
      "[15, 14, 13, 12, 11, 10]\n",
      "[15, 14, 13, 12, 11, 10]\n",
      "[15, 14, 13, 12, 11, 10]\n"
     ]
    }
   ],
   "source": [
    "# Reversing a list using reversed() \n",
    "def Reverse(lst): \n",
    "    return [ele for ele in reversed(lst)] \n",
    "      \n",
    "# Driver Code \n",
    "lst = [10, 11, 12, 13, 14, 15] \n",
    "print(Reverse(lst)) \n",
    "\n",
    "# Reversing a list using reverse() \n",
    "def Reverse(lst): \n",
    "    lst.reverse() \n",
    "    return lst \n",
    "      \n",
    "lst = [10, 11, 12, 13, 14, 15] \n",
    "print(Reverse(lst)) \n",
    "\n",
    "# Reversing a list using slicing technique \n",
    "def Reverse(lst): \n",
    "    new_lst = lst[::-1] \n",
    "    return new_lst \n",
    "      \n",
    "lst = [10, 11, 12, 13, 14, 15] \n",
    "print(Reverse(lst)) "
   ]
  },
  {
   "cell_type": "code",
   "execution_count": 8,
   "metadata": {},
   "outputs": [
    {
     "name": "stdout",
     "output_type": "stream",
     "text": [
      "Original List: [4, 8, 2, 10, 15, 18]\n",
      "After Cloning: [4, 8, 2, 10, 15, 18]\n",
      "Original List: [4, 8, 2, 10, 15, 18]\n",
      "After Cloning: [4, 8, 2, 10, 15, 18]\n",
      "Original List: [4, 8, 2, 10, 15, 18]\n",
      "After Cloning: [4, 8, 2, 10, 15, 18]\n"
     ]
    }
   ],
   "source": [
    "# Using the in-built function list() \n",
    "def Cloning(li1): \n",
    "    li_copy = list(li1) \n",
    "    return li_copy \n",
    "  \n",
    "# Driver Code \n",
    "li1 = [4, 8, 2, 10, 15, 18] \n",
    "li2 = Cloning(li1) \n",
    "print(\"Original List:\", li1) \n",
    "print(\"After Cloning:\", li2) \n",
    "\n",
    "# Using append() \n",
    "def Cloning(li1): \n",
    "    li_copy =[] \n",
    "    for item in li1: li_copy.append(item) \n",
    "    return li_copy \n",
    "  \n",
    "# Driver Code \n",
    "li1 = [4, 8, 2, 10, 15, 18] \n",
    "li2 = Cloning(li1) \n",
    "print(\"Original List:\", li1) \n",
    "print(\"After Cloning:\", li2) \n",
    "\n",
    "# Using bilt-in method copy() \n",
    "def Cloning(li1): \n",
    "    li_copy =[] \n",
    "    li_copy = li1.copy() \n",
    "    return li_copy \n",
    "  \n",
    "# Driver Code \n",
    "li1 = [4, 8, 2, 10, 15, 18] \n",
    "li2 = Cloning(li1) \n",
    "print(\"Original List:\", li1) \n",
    "print(\"After Cloning:\", li2) "
   ]
  },
  {
   "cell_type": "code",
   "execution_count": 10,
   "metadata": {},
   "outputs": [
    {
     "name": "stdout",
     "output_type": "stream",
     "text": [
      "[('ram', '15', '8'), ('laxman', 'sita'), ('krishna', 'akbar', '45'), ('', '')]\n",
      "<filter object at 0x0000000005256D48>\n"
     ]
    }
   ],
   "source": [
    "# Python program to remove empty tuples from a  \n",
    "# list of tuples function to remove empty tuples  \n",
    "# using list comprehension \n",
    "def Remove(tuples): \n",
    "    tuples = [t for t in tuples if t] \n",
    "    return tuples \n",
    "  \n",
    "# Driver Code \n",
    "tuples = [(), ('ram','15','8'), (), ('laxman', 'sita'),  \n",
    "          ('krishna', 'akbar', '45'), ('',''),()] \n",
    "print(Remove(tuples)) \n",
    "\n",
    "# Python2 program to remove empty tuples \n",
    "# from a list of tuples function to remove  \n",
    "# empty tuples using filter \n",
    "def Remove(tuples): \n",
    "    tuples = filter(None, tuples) \n",
    "    return tuples \n",
    "  \n",
    "# Driver Code \n",
    "tuples = [(), ('ram','15','8'), (), ('laxman', 'sita'),  \n",
    "          ('krishna', 'akbar', '45'), ('',''),()] \n",
    "print (Remove(tuples)) "
   ]
  },
  {
   "cell_type": "code",
   "execution_count": 14,
   "metadata": {},
   "outputs": [
    {
     "name": "stdout",
     "output_type": "stream",
     "text": [
      "Yes\n",
      "YES\n"
     ]
    }
   ],
   "source": [
    "# function which return reverse of a string \n",
    "def reverse(s): \n",
    "    return s[::-1] \n",
    "  \n",
    "def isPalindrome(s): \n",
    "    # Calling reverse function \n",
    "    rev = reverse(s) \n",
    "  \n",
    "    # Checking if both string are equal or not \n",
    "    if (s == rev): \n",
    "        return True\n",
    "    return False\n",
    "  \n",
    "  \n",
    "# Driver code \n",
    "s = \"malayalam\"\n",
    "ans = isPalindrome(s) \n",
    "  \n",
    "if ans == 1: \n",
    "    print(\"Yes\") \n",
    "else: \n",
    "    print(\"No\") \n",
    "    \n",
    "    \n",
    "# Python program to check \n",
    "# if a string is palindrome  \n",
    "# or not \n",
    "  \n",
    "x = \"malayalam\"\n",
    "w = \"\" \n",
    "for i in x: \n",
    "    w = i + w \n",
    "    if (x==w): \n",
    "        print(\"YES\") \n",
    "    "
   ]
  },
  {
   "cell_type": "code",
   "execution_count": 16,
   "metadata": {},
   "outputs": [
    {
     "name": "stdout",
     "output_type": "stream",
     "text": [
      "OrderedDict([('name', None), ('age', None), ('gender', None)])\n",
      "OrderedDict([('name', 10), ('age', 10), ('gender', 10)])\n"
     ]
    }
   ],
   "source": [
    "from collections import OrderedDict \n",
    "seq = ('name', 'age', 'gender') \n",
    "dict = OrderedDict.fromkeys(seq) \n",
    "  \n",
    "# Output = {'age': None, 'name': None, 'gender': None} \n",
    "print (str(dict))  \n",
    "dict = OrderedDict.fromkeys(seq, 10) \n",
    "  \n",
    "# Output = {'age': 10, 'name': 10, 'gender': 10} \n",
    "print (str(dict))  "
   ]
  },
  {
   "cell_type": "code",
   "execution_count": 17,
   "metadata": {},
   "outputs": [
    {
     "name": "stdout",
     "output_type": "stream",
     "text": [
      "String is not accepted.\n"
     ]
    }
   ],
   "source": [
    "# Python program to check if a string \n",
    "# contains any special character \n",
    "  \n",
    "# import required package \n",
    "import re \n",
    "  \n",
    "# Function checks if the string \n",
    "# contains any special character \n",
    "def run(string): \n",
    "  \n",
    "    # Make own character set and pass  \n",
    "    # this as argument in compile method \n",
    "    regex = re.compile('[@_!#$%^&*()<>?/\\|}{~:]') \n",
    "      \n",
    "    # Pass the string in search  \n",
    "    # method of regex object.     \n",
    "    if(regex.search(string) == None): \n",
    "        print(\"String is accepted\") \n",
    "          \n",
    "    else: \n",
    "        print(\"String is not accepted.\") \n",
    "      \n",
    "  \n",
    "# Driver Code \n",
    "if __name__ == '__main__' : \n",
    "      \n",
    "    # Enter the string \n",
    "    string = \"Rocky$For$Rockstar\"\n",
    "      \n",
    "    # calling run function  \n",
    "    run(string) "
   ]
  },
  {
   "cell_type": "code",
   "execution_count": 22,
   "metadata": {},
   "outputs": [
    {
     "name": "stdout",
     "output_type": "stream",
     "text": [
      "['Learning', 'from']\n"
     ]
    }
   ],
   "source": [
    "# Python3 program to find list of uncommon words \n",
    "  \n",
    "# Function to return all uncommon words \n",
    "def UncommonWords(A, B): \n",
    "  \n",
    "    # count will contain all the word counts \n",
    "    count = {} \n",
    "      \n",
    "    # insert words of string A to hash \n",
    "    for word in A.split(): \n",
    "        count[word] = count.get(word, 0) + 1\n",
    "      \n",
    "    # insert words of string B to hash \n",
    "    for word in B.split(): \n",
    "        count[word] = count.get(word, 0) + 1\n",
    "  \n",
    "    # return required list of words \n",
    "    return [word for word in count if count[word] == 1] \n",
    "  \n",
    "# Driver Code \n",
    "A = \"R for Rocky\"\n",
    "B = \"Learning from R for Rocky\"\n",
    "  \n",
    "# Print required answer \n",
    "print(UncommonWords(A, B)) "
   ]
  },
  {
   "cell_type": "code",
   "execution_count": 23,
   "metadata": {},
   "outputs": [
    {
     "name": "stdout",
     "output_type": "stream",
     "text": [
      "Python is great and Java also\n"
     ]
    }
   ],
   "source": [
    "from collections import Counter \n",
    "  \n",
    "def remov_duplicates(input): \n",
    "  \n",
    "    # split input string separated by space \n",
    "    input = input.split(\" \") \n",
    "  \n",
    "    # joins two adjacent elements in iterable way \n",
    "    for i in range(0, len(input)): \n",
    "        input[i] = \"\".join(input[i]) \n",
    "  \n",
    "    # now create dictionary using counter method \n",
    "    # which will have strings as key and their  \n",
    "    # frequencies as value \n",
    "    UniqW = Counter(input) \n",
    "  \n",
    "    # joins two adjacent elements in iterable way \n",
    "    s = \" \".join(UniqW.keys()) \n",
    "    print (s) \n",
    "  \n",
    "# Driver program \n",
    "if __name__ == \"__main__\": \n",
    "    input = 'Python is great and Java is also great'\n",
    "    remov_duplicates(input) "
   ]
  },
  {
   "cell_type": "code",
   "execution_count": null,
   "metadata": {},
   "outputs": [],
   "source": []
  }
 ],
 "metadata": {
  "kernelspec": {
   "display_name": "Python 3",
   "language": "python",
   "name": "python3"
  },
  "language_info": {
   "codemirror_mode": {
    "name": "ipython",
    "version": 3
   },
   "file_extension": ".py",
   "mimetype": "text/x-python",
   "name": "python",
   "nbconvert_exporter": "python",
   "pygments_lexer": "ipython3",
   "version": "3.7.4"
  }
 },
 "nbformat": 4,
 "nbformat_minor": 2
}
